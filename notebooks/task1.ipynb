{
 "cells": [
  {
   "cell_type": "code",
   "execution_count": 37,
   "metadata": {},
   "outputs": [],
   "source": [
    "import findspark\n",
    "findspark.init()\n",
    "\n",
    "from pyspark.sql import SparkSession\n",
    "from pyspark.sql.functions import format_number, mean, min, max, corr\n",
    "from pyspark.sql.functions import (dayofmonth, hour, dayofyear, month, year, weekofyear, format_number, date_format)\n",
    "\n",
    "spark = SparkSession.builder.appName('walmart').getOrCreate()"
   ]
  },
  {
   "cell_type": "markdown",
   "metadata": {},
   "source": [
    "## Load the Walmart data"
   ]
  },
  {
   "cell_type": "code",
   "execution_count": 8,
   "metadata": {},
   "outputs": [],
   "source": [
    "df = spark.read.csv('/home/jovyan/work/data/SP_500_Historical.csv', inferSchema=True, header=True)"
   ]
  },
  {
   "cell_type": "code",
   "execution_count": 9,
   "metadata": {},
   "outputs": [
    {
     "data": {
      "text/plain": [
       "['Date', 'Open', 'High', 'Low', 'Close', 'Adj Close', 'Volume']"
      ]
     },
     "execution_count": 9,
     "metadata": {},
     "output_type": "execute_result"
    }
   ],
   "source": [
    "df.columns"
   ]
  },
  {
   "cell_type": "code",
   "execution_count": 46,
   "metadata": {},
   "outputs": [
    {
     "data": {
      "text/plain": [
       "Row(Date='1927-12-30', Open=17.66, High=17.66, Low=17.66, Close=17.66, Adj Close=17.66, Volume=0)"
      ]
     },
     "execution_count": 46,
     "metadata": {},
     "output_type": "execute_result"
    }
   ],
   "source": [
    "df.head()"
   ]
  },
  {
   "cell_type": "code",
   "execution_count": 47,
   "metadata": {},
   "outputs": [
    {
     "name": "stdout",
     "output_type": "stream",
     "text": [
      "root\n",
      " |-- Date: string (nullable = true)\n",
      " |-- Open: double (nullable = true)\n",
      " |-- High: double (nullable = true)\n",
      " |-- Low: double (nullable = true)\n",
      " |-- Close: double (nullable = true)\n",
      " |-- Adj Close: double (nullable = true)\n",
      " |-- Volume: long (nullable = true)\n",
      "\n"
     ]
    }
   ],
   "source": [
    "df.printSchema()"
   ]
  },
  {
   "cell_type": "markdown",
   "metadata": {},
   "source": [
    "## Print the first 5 rows"
   ]
  },
  {
   "cell_type": "code",
   "execution_count": 10,
   "metadata": {},
   "outputs": [
    {
     "name": "stdout",
     "output_type": "stream",
     "text": [
      "Row(Date='1927-12-30', Open=17.66, High=17.66, Low=17.66, Close=17.66, Adj Close=17.66, Volume=0) \n",
      "\n",
      "Row(Date='1928-01-03', Open=17.76, High=17.76, Low=17.76, Close=17.76, Adj Close=17.76, Volume=0) \n",
      "\n",
      "Row(Date='1928-01-04', Open=17.719999, High=17.719999, Low=17.719999, Close=17.719999, Adj Close=17.719999, Volume=0) \n",
      "\n",
      "Row(Date='1928-01-05', Open=17.549999, High=17.549999, Low=17.549999, Close=17.549999, Adj Close=17.549999, Volume=0) \n",
      "\n",
      "Row(Date='1928-01-06', Open=17.66, High=17.66, Low=17.66, Close=17.66, Adj Close=17.66, Volume=0) \n",
      "\n"
     ]
    }
   ],
   "source": [
    "for line in df.head(5):\n",
    "    print(line, '\\n')"
   ]
  },
  {
   "cell_type": "code",
   "execution_count": 11,
   "metadata": {},
   "outputs": [
    {
     "name": "stdout",
     "output_type": "stream",
     "text": [
      "+-------+----------+------------------+-----------------+-----------------+-----------------+-----------------+-------------------+\n",
      "|summary|      Date|              Open|             High|              Low|            Close|        Adj Close|             Volume|\n",
      "+-------+----------+------------------+-----------------+-----------------+-----------------+-----------------+-------------------+\n",
      "|  count|     23394|             23394|            23394|            23394|            23394|            23394|              23394|\n",
      "|   mean|      null|476.11160499572713| 499.573078690306|493.5473208786023|496.7595207246288|496.7595207246288|7.818766662392067E8|\n",
      "| stddev|      null| 758.6405523320375|750.7131015121531|742.3163058669743|746.8156180683476|746.8156180683476|1.501735206029603E9|\n",
      "|    min|1927-12-30|               0.0|              4.4|              4.4|              4.4|              4.4|                  0|\n",
      "|    max|2021-02-18|       3939.610107|      3950.429932|      3923.850098|      3934.830078|      3934.830078|        11456230000|\n",
      "+-------+----------+------------------+-----------------+-----------------+-----------------+-----------------+-------------------+\n",
      "\n"
     ]
    }
   ],
   "source": [
    "df.describe().show()"
   ]
  },
  {
   "cell_type": "markdown",
   "metadata": {},
   "source": [
    "## Format columns to show just 2 decimal places"
   ]
  },
  {
   "cell_type": "code",
   "execution_count": 15,
   "metadata": {},
   "outputs": [
    {
     "name": "stdout",
     "output_type": "stream",
     "text": [
      "+-------+---------+---------+---------+---------+-----------------+\n",
      "|summary|     Open|     High|      Low|    Close|           Volume|\n",
      "+-------+---------+---------+---------+---------+-----------------+\n",
      "|  count|23,394.00|23,394.00|23,394.00|23,394.00|        23,394.00|\n",
      "|   mean|   476.11|   499.57|   493.55|   496.76|   781,876,672.00|\n",
      "| stddev|   758.64|   750.71|   742.32|   746.82| 1,501,735,168.00|\n",
      "|    min|     0.00|     4.40|     4.40|     4.40|             0.00|\n",
      "|    max| 3,939.61| 3,950.43| 3,923.85| 3,934.83|11,456,230,400.00|\n",
      "+-------+---------+---------+---------+---------+-----------------+\n",
      "\n"
     ]
    }
   ],
   "source": [
    "summary = df.describe()\n",
    "summary.select(summary['summary'],\n",
    "              format_number(summary['Open'].cast('float'), 2).alias('Open'),\n",
    "              format_number(summary['High'].cast('float'), 2).alias('High'),\n",
    "              format_number(summary['Low'].cast('float'), 2).alias('Low'),\n",
    "              format_number(summary['Close'].cast('float'), 2).alias('Close'),\n",
    "              format_number(summary['Volume'].cast('float'), 2).alias('Volume'),\n",
    "              ).show()"
   ]
  },
  {
   "cell_type": "markdown",
   "metadata": {},
   "source": [
    "## Create a new dataframe with a column called HV Ratio that is the ratio of the High Price versus volume of stock traded for a day"
   ]
  },
  {
   "cell_type": "code",
   "execution_count": 25,
   "metadata": {},
   "outputs": [
    {
     "name": "stdout",
     "output_type": "stream",
     "text": [
      "+--------+\n",
      "|HV Ratio|\n",
      "+--------+\n",
      "|    null|\n",
      "|    null|\n",
      "|    null|\n",
      "|    null|\n",
      "|    null|\n",
      "|    null|\n",
      "|    null|\n",
      "|    null|\n",
      "|    null|\n",
      "|    null|\n",
      "|    null|\n",
      "|    null|\n",
      "|    null|\n",
      "|    null|\n",
      "|    null|\n",
      "|    null|\n",
      "|    null|\n",
      "|    null|\n",
      "|    null|\n",
      "|    null|\n",
      "+--------+\n",
      "only showing top 20 rows\n",
      "\n"
     ]
    }
   ],
   "source": [
    "df_hv = df.withColumn('HV Ratio', df['High']/df['Volume']).select(['HV Ratio'])\n",
    "df_hv.show()"
   ]
  },
  {
   "cell_type": "markdown",
   "metadata": {},
   "source": [
    "## Which day has the peak high in price?"
   ]
  },
  {
   "cell_type": "code",
   "execution_count": 26,
   "metadata": {},
   "outputs": [
    {
     "data": {
      "text/plain": [
       "'2021-02-16'"
      ]
     },
     "execution_count": 26,
     "metadata": {},
     "output_type": "execute_result"
    }
   ],
   "source": [
    "df.orderBy(df['High'].desc()).select(['Date']).head(1)[0]['Date']"
   ]
  },
  {
   "cell_type": "markdown",
   "metadata": {},
   "source": [
    "## What is the mean of the \"Close\" column"
   ]
  },
  {
   "cell_type": "code",
   "execution_count": 28,
   "metadata": {},
   "outputs": [
    {
     "name": "stdout",
     "output_type": "stream",
     "text": [
      "+-----------------+\n",
      "|       avg(Close)|\n",
      "+-----------------+\n",
      "|496.7595207246288|\n",
      "+-----------------+\n",
      "\n"
     ]
    }
   ],
   "source": [
    "df.select(mean('Close')).show()"
   ]
  },
  {
   "cell_type": "markdown",
   "metadata": {},
   "source": [
    "## What is the maximum and minimum value of the \"Volumn\" column"
   ]
  },
  {
   "cell_type": "code",
   "execution_count": 31,
   "metadata": {},
   "outputs": [
    {
     "name": "stdout",
     "output_type": "stream",
     "text": [
      "+-----------+-----------+\n",
      "|max(Volume)|min(Volume)|\n",
      "+-----------+-----------+\n",
      "|11456230000|          0|\n",
      "+-----------+-----------+\n",
      "\n"
     ]
    }
   ],
   "source": [
    "df.select(max('Volume'), min('Volume')).show()"
   ]
  },
  {
   "cell_type": "markdown",
   "metadata": {},
   "source": [
    "## How many days did the stocks close lower than 60 dollars?"
   ]
  },
  {
   "cell_type": "code",
   "execution_count": 32,
   "metadata": {},
   "outputs": [
    {
     "data": {
      "text/plain": [
       "8381"
      ]
     },
     "execution_count": 32,
     "metadata": {},
     "output_type": "execute_result"
    }
   ],
   "source": [
    "df.filter(df['Close'] < 60).count()"
   ]
  },
  {
   "cell_type": "markdown",
   "metadata": {},
   "source": [
    "## What percentage of the time was the \"High\" greater than 80 dollars?"
   ]
  },
  {
   "cell_type": "code",
   "execution_count": 33,
   "metadata": {},
   "outputs": [
    {
     "data": {
      "text/plain": [
       "60.13935197059075"
      ]
     },
     "execution_count": 33,
     "metadata": {},
     "output_type": "execute_result"
    }
   ],
   "source": [
    "df.filter('High > 80').count() * 100/df.count()"
   ]
  },
  {
   "cell_type": "markdown",
   "metadata": {},
   "source": [
    "## What is the Pearson correlation between \"High\" and \"Volume\""
   ]
  },
  {
   "cell_type": "code",
   "execution_count": 34,
   "metadata": {},
   "outputs": [
    {
     "data": {
      "text/plain": [
       "0.8243719072537106"
      ]
     },
     "execution_count": 34,
     "metadata": {},
     "output_type": "execute_result"
    }
   ],
   "source": [
    "df.corr('High', 'Volume')"
   ]
  },
  {
   "cell_type": "code",
   "execution_count": 36,
   "metadata": {},
   "outputs": [
    {
     "name": "stdout",
     "output_type": "stream",
     "text": [
      "+------------------+\n",
      "|corr(High, Volume)|\n",
      "+------------------+\n",
      "|0.8243719072537106|\n",
      "+------------------+\n",
      "\n"
     ]
    }
   ],
   "source": [
    "df.select(corr(df['High'], df['Volume'])).show()"
   ]
  },
  {
   "cell_type": "markdown",
   "metadata": {},
   "source": [
    "## What is the max \"High\" per year?"
   ]
  },
  {
   "cell_type": "code",
   "execution_count": 41,
   "metadata": {
    "scrolled": false
   },
   "outputs": [
    {
     "name": "stdout",
     "output_type": "stream",
     "text": [
      "+----+-----------+\n",
      "|Year|  max(High)|\n",
      "+----+-----------+\n",
      "|1959|  60.709999|\n",
      "|1990| 369.779999|\n",
      "|1975|  96.580002|\n",
      "|1977| 107.970001|\n",
      "|2003|1112.560059|\n",
      "|2007|1576.089966|\n",
      "|2018|2940.909912|\n",
      "|1974| 101.050003|\n",
      "|2015|2134.719971|\n",
      "|1927|      17.66|\n",
      "|1955|      46.41|\n",
      "|2006|1431.810059|\n",
      "|1978| 108.050003|\n",
      "|1961|  72.639999|\n",
      "|2013|1849.439941|\n",
      "|1942|       9.77|\n",
      "|1939|      13.23|\n",
      "|1944|      13.28|\n",
      "|1952|      26.59|\n",
      "|1934|      11.82|\n",
      "+----+-----------+\n",
      "only showing top 20 rows\n",
      "\n"
     ]
    }
   ],
   "source": [
    "year_df = df.withColumn('Year', year(df['Date']))\n",
    "\n",
    "year_df.groupBy('Year').max()['Year','max(High)'].show()"
   ]
  },
  {
   "cell_type": "markdown",
   "metadata": {},
   "source": [
    "## What is the average 'Close' for each calender month?"
   ]
  },
  {
   "cell_type": "code",
   "execution_count": 43,
   "metadata": {},
   "outputs": [
    {
     "name": "stdout",
     "output_type": "stream",
     "text": [
      "+-----+------------------+\n",
      "|Month|        avg(Close)|\n",
      "+-----+------------------+\n",
      "|    1|  496.468688647595|\n",
      "|    2|508.39007361958375|\n",
      "|    3| 477.3591337443125|\n",
      "|    4|482.42328686337675|\n",
      "|    5| 487.1987677683734|\n",
      "|    6| 491.1081333945652|\n",
      "|    7|497.47155179134825|\n",
      "|    8|497.00198786410095|\n",
      "|    9|494.81639784761904|\n",
      "|   10| 501.5918244367927|\n",
      "|   11| 520.5698029569008|\n",
      "|   12|509.57525815349265|\n",
      "+-----+------------------+\n",
      "\n"
     ]
    }
   ],
   "source": [
    "# New column Month\n",
    "month_df = df.withColumn('Month', month(df['Date']))\n",
    "\n",
    "# Group by month and take average of all other columns\n",
    "month_df = month_df.groupBy('Month').mean()\n",
    "\n",
    "# Sort by month\n",
    "month_df = month_df.orderBy('Month')\n",
    "\n",
    "#Display only month and avg(Close), the desired columns\n",
    "month_df['Month', 'avg(Close)'].show()"
   ]
  },
  {
   "cell_type": "code",
   "execution_count": null,
   "metadata": {},
   "outputs": [],
   "source": []
  }
 ],
 "metadata": {
  "kernelspec": {
   "display_name": "Python 3",
   "language": "python",
   "name": "python3"
  },
  "language_info": {
   "codemirror_mode": {
    "name": "ipython",
    "version": 3
   },
   "file_extension": ".py",
   "mimetype": "text/x-python",
   "name": "python",
   "nbconvert_exporter": "python",
   "pygments_lexer": "ipython3",
   "version": "3.8.8"
  }
 },
 "nbformat": 4,
 "nbformat_minor": 4
}
